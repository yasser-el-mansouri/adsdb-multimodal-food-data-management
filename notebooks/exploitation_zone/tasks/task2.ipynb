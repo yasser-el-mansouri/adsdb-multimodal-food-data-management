{
 "cells": [
  {
   "cell_type": "markdown",
   "id": "6d2232a9",
   "metadata": {},
   "source": [
    "# 1) Setup env, MinIO client, Chroma client"
   ]
  },
  {
   "cell_type": "code",
   "execution_count": 37,
   "id": "a277a729",
   "metadata": {},
   "outputs": [
    {
     "name": "stdout",
     "output_type": "stream",
     "text": [
      "Loading environment variables from c:\\Users\\sindr\\Documents\\FIB\\adsdb-multimodal-food-data-management\\.env\n",
      "Available collections: ['trusted_zone_images', 'trusted_zone_documents', 'trusted_zone_multimodal']\n",
      "✅ Multi-modal collection ready: trusted_zone_multimodal\n"
     ]
    }
   ],
   "source": [
    "import os, io, json\n",
    "from dotenv import load_dotenv, find_dotenv\n",
    "from typing import Dict, Any\n",
    "import numpy as np\n",
    "import boto3\n",
    "from botocore.config import Config\n",
    "from chromadb import PersistentClient\n",
    "from chromadb.utils.embedding_functions import OpenCLIPEmbeddingFunction\n",
    "from typing import Dict, Any\n",
    "import base64\n",
    "\n",
    "dotenv_path = find_dotenv(filename='.env', usecwd=True)\n",
    "if not dotenv_path:\n",
    "    raise FileNotFoundError(\"Could not find .env. Set its path manually.\")\n",
    "print(f\"Loading environment variables from {dotenv_path}\")\n",
    "load_dotenv(dotenv_path)\n",
    "\n",
    "\n",
    "\n",
    "# --- ENV ---\n",
    "TRUSTED_BUCKET       = os.environ.get(\"TRUSTED_BUCKET\", \"trusted-zone\")\n",
    "\n",
    "CHROMA_PERSIST_DIR   = os.environ.get(\"CHROMA_PERSIST_DIR\", \"exploitation_zone/chroma\")\n",
    "\n",
    "# --- MinIO S3 client ---\n",
    "MINIO_USER     = os.environ.get(\"MINIO_USER\")\n",
    "MINIO_PASSWORD = os.environ.get(\"MINIO_PASSWORD\")\n",
    "MINIO_ENDPOINT = os.environ.get(\"MINIO_ENDPOINT\")\n",
    "\n",
    "# Paths and Buckets\n",
    "TRUST_BUCKET        = \"trusted-zone\"\n",
    "TRUST_IMAGES_PREFIX = \"images\"\n",
    "\n",
    "session = boto3.session.Session(\n",
    "    aws_access_key_id=MINIO_USER,\n",
    "    aws_secret_access_key=MINIO_PASSWORD,\n",
    "    region_name=\"us-east-1\"\n",
    ")\n",
    "s3 = session.client(\n",
    "    \"s3\",\n",
    "    endpoint_url=MINIO_ENDPOINT,\n",
    "    config=Config(signature_version=\"s3v4\", s3={\"addressing_style\": \"path\"})\n",
    ")\n",
    "\n",
    "# Connect to the same local exploitation directory\n",
    "CHROMA = PersistentClient(path=\"../\" + CHROMA_PERSIST_DIR)\n",
    "\n",
    "# Use CLIP for both text & images\n",
    "ef_clip = OpenCLIPEmbeddingFunction()\n",
    "\n",
    "# list all existing collections\n",
    "existing_names = [col.name for col in CHROMA.list_collections()]\n",
    "print(\"Available collections:\", existing_names)\n",
    "\n",
    "target_name = \"trusted_zone_multimodal\"\n",
    "\n",
    "# connect to the collection for multi-modal data\n",
    "multi_col = CHROMA.get_or_create_collection(\n",
    "    name=\"trusted_zone_multimodal\",\n",
    "    embedding_function=ef_clip,\n",
    "    metadata={\"modality\": \"image+text\", \"model\": \"OpenCLIP\", \"source\": \"minio\"}\n",
    ")\n",
    "\n",
    "print(\"✅ Multi-modal collection ready:\", multi_col.name)\n"
   ]
  },
  {
   "cell_type": "code",
   "execution_count": 38,
   "id": "10018a5c",
   "metadata": {},
   "outputs": [
    {
     "name": "stdout",
     "output_type": "stream",
     "text": [
      "Available buckets: ['formatted-zone', 'landing-zone', 'trusted-zone']\n",
      "✅ Bucket 'trusted-zone' exists\n",
      "Objects in trusted-zone: 53\n"
     ]
    }
   ],
   "source": [
    "# Test MinIO connection and bucket\n",
    "try:\n",
    "    # List all buckets\n",
    "    response = s3.list_buckets()\n",
    "    print(\"Available buckets:\", [b['Name'] for b in response['Buckets']])\n",
    "    \n",
    "    # Check if trusted-zone bucket exists\n",
    "    if TRUSTED_BUCKET in [b['Name'] for b in response['Buckets']]:\n",
    "        print(f\"✅ Bucket '{TRUSTED_BUCKET}' exists\")\n",
    "    else:\n",
    "        print(f\"❌ Bucket '{TRUSTED_BUCKET}' does NOT exist\")\n",
    "        \n",
    "    # Try to list objects in the bucket\n",
    "    try:\n",
    "        objects = s3.list_objects_v2(Bucket=TRUSTED_BUCKET)\n",
    "        print(f\"Objects in {TRUSTED_BUCKET}: {objects.get('KeyCount', 0)}\")\n",
    "    except Exception as e:\n",
    "        print(f\"Cannot access bucket {TRUSTED_BUCKET}: {e}\")\n",
    "        \n",
    "except Exception as e:\n",
    "    print(f\"MinIO error: {e}\")"
   ]
  },
  {
   "cell_type": "markdown",
   "id": "e080dcff",
   "metadata": {},
   "source": [
    "# 2) Helpers \n"
   ]
  },
  {
   "cell_type": "code",
   "execution_count": 39,
   "id": "4d546e11",
   "metadata": {},
   "outputs": [],
   "source": [
    "# --- Compute summary statistics ---\n",
    "def summarize(label, arr):\n",
    "    if not arr:\n",
    "        print(f\"No {label} results found.\")\n",
    "        return None, None\n",
    "    return min(arr), max(arr)\n",
    "# --- Print multi-modal search summary ---\n",
    "def print_multi_summary(res: Dict[str, Any]):\n",
    "    metas = res[\"metadatas\"][0]\n",
    "    dists = res[\"distances\"][0]\n",
    "\n",
    "    image_dists = [d for m, d in zip(metas, dists) if m.get(\"type\") == \"image\"]\n",
    "    text_dists  = [d for m, d in zip(metas, dists) if m.get(\"type\") == \"text\"]\n",
    "\n",
    "    closest_img, farthest_img = summarize(\"image\", image_dists)\n",
    "    closest_txt, farthest_txt = summarize(\"text\", text_dists)\n",
    "\n",
    "    # --- Print the summary neatly ---\n",
    "    print(\"🔍 Cross-Modal Query Summary\")\n",
    "    print(f\"Closest image match has distance  {closest_img:.3f}\")\n",
    "    print(f\"Farthest image match has distance {farthest_img:.3f}\")\n",
    "    print(f\"Closest recipe match has distance {closest_txt:.3f}\")\n",
    "    print(f\"Farthest recipe match has distance {farthest_txt:.3f}\")\n"
   ]
  },
  {
   "cell_type": "code",
   "execution_count": 40,
   "id": "7b00cc6a",
   "metadata": {},
   "outputs": [
    {
     "name": "stdout",
     "output_type": "stream",
     "text": [
      "Available collections:\n",
      "  - trusted_zone_images\n",
      "  - trusted_zone_documents\n",
      "  - trusted_zone_multimodal\n",
      "\n",
      "Collection 'trusted_zone_multimodal' has 85 entries\n",
      "[\n",
      "  {\n",
      "    \"object_key\": \"images/image$adsdb-multimodal-food-data-management$2025-10-27T21-15-52Z$11623d02da5633ddae2ec9cd3e18bf13__00059477e2_0.jpg\",\n",
      "    \"bucket\": \"trusted-zone\",\n",
      "    \"type\": \"image\"\n",
      "  },\n",
      "  {\n",
      "    \"type\": \"image\",\n",
      "    \"object_key\": \"images/image$adsdb-multimodal-food-data-management$2025-10-27T21-15-52Z$142496c88baebda2c924c53461d0f78e__00073a6b36_0.jpg\",\n",
      "    \"bucket\": \"trusted-zone\"\n",
      "  }\n",
      "]\n"
     ]
    }
   ],
   "source": [
    "# Debug: Check what collections exist\n",
    "print(\"Available collections:\")\n",
    "for col_name in CHROMA.list_collections():\n",
    "    print(f\"  - {col_name.name}\")\n",
    "    \n",
    "# Check the specific collection\n",
    "try:\n",
    "    col = CHROMA.get_collection(\"trusted_zone_multimodal\")\n",
    "    count = col.count()\n",
    "    print(f\"\\nCollection 'trusted_zone_multimodal' has {count} entries\")\n",
    "    \n",
    "    if count > 0:\n",
    "        # Get a sample\n",
    "        sample = col.get(limit=2)\n",
    "        print(json.dumps(sample[\"metadatas\"], indent=2))\n",
    "\n",
    "except Exception as e:\n",
    "    print(f\"Error accessing collection: {e}\")"
   ]
  },
  {
   "cell_type": "markdown",
   "id": "8a32404d",
   "metadata": {},
   "source": [
    "# 3) Text search\n"
   ]
  },
  {
   "cell_type": "code",
   "execution_count": 41,
   "id": "90891b57",
   "metadata": {},
   "outputs": [
    {
     "name": "stdout",
     "output_type": "stream",
     "text": [
      "Total items: 85 | Images: 50 | Texts: 35\n",
      "🔍 Cross-Modal Query Summary\n",
      "Closest image match has distance  0.699\n",
      "Farthest image match has distance 0.979\n",
      "Closest recipe match has distance 0.246\n",
      "Farthest recipe match has distance 0.805\n"
     ]
    }
   ],
   "source": [
    "all_data = multi_col.get(limit=10000)\n",
    "metas = all_data[\"metadatas\"]\n",
    "\n",
    "image_count = sum(1 for m in metas if m.get(\"type\") == \"image\")\n",
    "text_count  = sum(1 for m in metas if m.get(\"type\") == \"text\")\n",
    "\n",
    "print(f\"Total items: {len(metas)} | Images: {image_count} | Texts: {text_count}\")\n",
    "\n",
    "query = \"fettuccine alfredo pasta dish with creamy sauce\"\n",
    "\n",
    "res = multi_col.query(\n",
    "    query_texts=[query],\n",
    "    n_results=85,\n",
    "    include=[\"metadatas\", \"documents\", \"distances\"]\n",
    ")\n",
    "\n",
    "print_multi_summary(res)\n",
    "\n"
   ]
  },
  {
   "cell_type": "markdown",
   "id": "d05d6792",
   "metadata": {},
   "source": [
    "# 4) Image search\n"
   ]
  },
  {
   "cell_type": "code",
   "execution_count": 42,
   "id": "6b633882",
   "metadata": {},
   "outputs": [
    {
     "name": "stdout",
     "output_type": "stream",
     "text": [
      "Total items: 85 | Images: 50 | Texts: 35\n",
      "🔍 Cross-Modal Query Summary\n",
      "Closest image match has distance  0.361\n",
      "Farthest image match has distance 0.716\n",
      "Closest recipe match has distance 0.700\n",
      "Farthest recipe match has distance 1.025\n"
     ]
    }
   ],
   "source": [
    "all_data = multi_col.get(limit=10000)\n",
    "metas = all_data[\"metadatas\"]\n",
    "\n",
    "image_count = sum(1 for m in metas if m.get(\"type\") == \"image\")\n",
    "text_count  = sum(1 for m in metas if m.get(\"type\") == \"text\")\n",
    "\n",
    "print(f\"Total items: {len(metas)} | Images: {image_count} | Texts: {text_count}\")\n",
    "\n",
    "query = np.array(Image.open(\"calico-beans.jpg\").convert(\"RGB\"))\n",
    "\n",
    "res = multi_col.query(\n",
    "    query_images=[query],\n",
    "    n_results=85,    # top-k results\n",
    "    include=[\"documents\", \"metadatas\", \"distances\"]\n",
    ")\n",
    "print_multi_summary(res)\n",
    "\n"
   ]
  }
 ],
 "metadata": {
  "kernelspec": {
   "display_name": ".venv",
   "language": "python",
   "name": "python3"
  },
  "language_info": {
   "codemirror_mode": {
    "name": "ipython",
    "version": 3
   },
   "file_extension": ".py",
   "mimetype": "text/x-python",
   "name": "python",
   "nbconvert_exporter": "python",
   "pygments_lexer": "ipython3",
   "version": "3.12.0"
  }
 },
 "nbformat": 4,
 "nbformat_minor": 5
}
