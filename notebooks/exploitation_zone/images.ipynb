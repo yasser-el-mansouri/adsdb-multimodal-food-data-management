{
 "cells": [
  {
   "cell_type": "markdown",
   "id": "ff0d1fb6",
   "metadata": {},
   "source": [
    "# Exploitation Zone — Image Processing\n",
    "\n",
    "This notebook handles the **image processing** step for the Exploitation Zone of our data pipeline.  \n",
    "Its primary goal is to:\n",
    "\n",
    "1. **Load images** from the Trusted Zone\n",
    "2. **Generate embeddings** from the images in the Trusted Zone\n",
    "3. **Store the embeddings** in ChromaDB\n",
    "\n"
   ]
  },
  {
   "cell_type": "markdown",
   "id": "22565c83",
   "metadata": {},
   "source": [
    "## 1. Setup and Configuration\n"
   ]
  },
  {
   "cell_type": "code",
   "execution_count": 6,
   "id": "e613ebe0",
   "metadata": {},
   "outputs": [],
   "source": [
    "import os, io\n",
    "from datetime import datetime, timezone\n",
    "\n",
    "import boto3\n",
    "from botocore.config import Config\n",
    "from dotenv import load_dotenv\n",
    "\n",
    "from chromadb import PersistentClient\n",
    "from chromadb.utils.embedding_functions import OpenCLIPEmbeddingFunction\n",
    "\n",
    "import numpy as np\n",
    "from PIL import Image\n",
    "\n",
    "load_dotenv()\n",
    "\n",
    "# S3 / MinIO Configuration\n",
    "MINIO_USER     = os.getenv(\"MINIO_USER\")\n",
    "MINIO_PASSWORD = os.getenv(\"MINIO_PASSWORD\")\n",
    "MINIO_ENDPOINT = os.getenv(\"MINIO_ENDPOINT\")\n",
    "\n",
    "session = boto3.session.Session(\n",
    "    aws_access_key_id=MINIO_USER,\n",
    "    aws_secret_access_key=MINIO_PASSWORD,\n",
    "    region_name=\"us-east-1\"\n",
    ")\n",
    "s3 = session.client(\n",
    "    \"s3\",\n",
    "    endpoint_url=MINIO_ENDPOINT,\n",
    "    config=Config(signature_version=\"s3v4\", s3={\"addressing_style\": \"path\"})\n",
    ")\n",
    "\n",
    "# Paths and Buckets\n",
    "TRUST_BUCKET        = \"trusted-zone\"\n",
    "TRUST_IMAGES_PREFIX = \"images\"\n",
    "\n",
    "# ChromaDB Persistent Client\n",
    "PERSIST_DIR = os.getenv(\"CHROMA_PERSIST_DIR\")\n",
    "\n",
    "def utc_ts():\n",
    "    return datetime.now(timezone.utc).strftime(\"%Y-%m-%dT%H-%M-%SZ\")"
   ]
  },
  {
   "cell_type": "markdown",
   "id": "0c35a110",
   "metadata": {},
   "source": [
    "## 2. S3 Helper Functions\n",
    "\n",
    "These utility functions provide a clean interface for S3 operations, handling common patterns like listing objects, checking existence, and copying files between buckets.\n"
   ]
  },
  {
   "cell_type": "code",
   "execution_count": 7,
   "id": "7cabb61c",
   "metadata": {},
   "outputs": [],
   "source": [
    "def list_all_jpg_keys(bucket: str, prefix: str):\n",
    "    keys, token = [], None\n",
    "    while True:\n",
    "        kwargs = {\"Bucket\": bucket, \"Prefix\": prefix, \"MaxKeys\": 1000}\n",
    "        if token: kwargs[\"ContinuationToken\"] = token\n",
    "        resp = s3.list_objects_v2(**kwargs)\n",
    "        for obj in resp.get(\"Contents\", []):\n",
    "            k = obj[\"Key\"]\n",
    "            if k.lower().endswith(\".jpg\") or k.lower().endswith(\".jpeg\"):\n",
    "                # store keys relative to the prefix (cleaner IDs)\n",
    "                keys.append(k)\n",
    "                print(f\"Found image: {keys[-1]}\")\n",
    "        token = resp.get(\"NextContinuationToken\")\n",
    "        if not token:\n",
    "            break\n",
    "    return keys\n",
    "\n",
    "def get_np_from_minio(key: str) -> np.ndarray:\n",
    "    obj = s3.get_object(Bucket=TRUST_BUCKET, Key=key)\n",
    "    return np.array(Image.open(io.BytesIO(obj[\"Body\"].read())).convert(\"RGB\"))\n"
   ]
  },
  {
   "cell_type": "markdown",
   "id": "3a9b5ecd",
   "metadata": {},
   "source": [
    "## 3. Create and/or connect to the chromaDB\n"
   ]
  },
  {
   "cell_type": "code",
   "execution_count": 8,
   "id": "450cc940",
   "metadata": {},
   "outputs": [
    {
     "name": "stdout",
     "output_type": "stream",
     "text": [
      "✅ Chroma DB directory: ./chroma_exploitation\n"
     ]
    }
   ],
   "source": [
    "chroma_client = PersistentClient(path=PERSIST_DIR)\n",
    "ef_img = OpenCLIPEmbeddingFunction()\n",
    "\n",
    "images_name = \"trusted_zone_images\"\n",
    "multi_name = \"trusted_zone_multimodal\"\n",
    "\n",
    "images_col = chroma_client.get_or_create_collection(\n",
    "    name=images_name,\n",
    "    embedding_function=ef_img,\n",
    "    metadata={\"modality\": \"image\", \"model\": \"OpenCLIP\", \"source\": \"minio\"}\n",
    ")\n",
    "multi_col = chroma_client.get_or_create_collection(\n",
    "    name=multi_name,\n",
    "    embedding_function=ef_img,\n",
    "    metadata={\"modality\": \"multimodal\", \"model\": \"OpenCLIP\", \"source\": \"minio\"}\n",
    ")\n",
    "print(\"✅ Chroma DB directory:\", PERSIST_DIR)\n"
   ]
  },
  {
   "cell_type": "markdown",
   "id": "935022c6",
   "metadata": {},
   "source": [
    "## 4. Generate embeddings and store in chromaDB\n"
   ]
  },
  {
   "cell_type": "code",
   "execution_count": 9,
   "id": "ba5d4497",
   "metadata": {},
   "outputs": [
    {
     "name": "stdout",
     "output_type": "stream",
     "text": [
      "Found image: images/image$adsdb-multimodal-food-data-management$2025-10-29T21-14-26Z$142496c88baebda2c924c53461d0f78e__00073a6b36_0.jpg\n",
      "Found image: images/image$adsdb-multimodal-food-data-management$2025-10-29T21-14-26Z$178c1af104b971fe99d70bfdaf0b9f10__00059b093b_0.jpg\n",
      "Found image: images/image$adsdb-multimodal-food-data-management$2025-10-29T21-14-26Z$19214085d36fb535c7dbf24d178dea1b__000095fc1d_0.jpg\n",
      "Found image: images/image$adsdb-multimodal-food-data-management$2025-10-29T21-14-26Z$1a426726a1e467b8e6360e980b03f611__00003a70b1_1.jpg\n",
      "Found image: images/image$adsdb-multimodal-food-data-management$2025-10-29T21-14-26Z$1b1a47ccbb9d3b879c21952c03111b34__00003a70b1_2.jpg\n",
      "Found image: images/image$adsdb-multimodal-food-data-management$2025-10-29T21-14-26Z$1f319b35211a3460a2ea0c4e6a9a8092__00089de6f7_0.jpg\n",
      "Found image: images/image$adsdb-multimodal-food-data-management$2025-10-29T21-14-26Z$27411161d5ab042cbe985fea570e18c9__0008e9296d_0.jpg\n",
      "Found image: images/image$adsdb-multimodal-food-data-management$2025-10-29T21-14-26Z$29a6b894f0b8a4baa0fa34c9ae16449f__0008b8f5bc_0.jpg\n",
      "Found image: images/image$adsdb-multimodal-food-data-management$2025-10-29T21-14-26Z$2ae214acf9fa1e79658ea486f850525c__00034ad6cc_2.jpg\n",
      "Found image: images/image$adsdb-multimodal-food-data-management$2025-10-29T21-14-26Z$2beb30949c65b2f7b28a032ffda5959b__000590db74_0.jpg\n",
      "Found image: images/image$adsdb-multimodal-food-data-management$2025-10-29T21-14-26Z$39ae3497dba7d5906d1134259dfcf84f__00034cf3f3_0.jpg\n",
      "Found image: images/image$adsdb-multimodal-food-data-management$2025-10-29T21-14-26Z$44af7d617efb40fb4459a98c3f66b5f7__0008b8f5bc_1.jpg\n",
      "Found image: images/image$adsdb-multimodal-food-data-management$2025-10-29T21-14-26Z$46ffc3890fb1c38ca6bf1520471269cf__0003d5b120_0.jpg\n",
      "Found image: images/image$adsdb-multimodal-food-data-management$2025-10-29T21-14-26Z$4786052a58187b0a9c875fde7cf940c9__00010c7867_0.jpg\n",
      "Found image: images/image$adsdb-multimodal-food-data-management$2025-10-29T21-14-26Z$57a871858fda5288104a328ebea956b1__0008fab425_2.jpg\n",
      "Found image: images/image$adsdb-multimodal-food-data-management$2025-10-29T21-14-26Z$5fa6352d9a2d3953ec1b1bdde5658bf1__00047059be_1.jpg\n",
      "Found image: images/image$adsdb-multimodal-food-data-management$2025-10-29T21-14-26Z$696e8155589b80eb0ec8cf18b083b669__0007a28fe7_0.jpg\n",
      "Found image: images/image$adsdb-multimodal-food-data-management$2025-10-29T21-14-26Z$6aaf18e8462526c1298ea0ccfaa861a5__0000b1e2b5_0.jpg\n",
      "Found image: images/image$adsdb-multimodal-food-data-management$2025-10-29T21-14-26Z$6e0720efb93c1e5c1719b5b4c0c4cd7e__0000c79afb_0.jpg\n",
      "Found image: images/image$adsdb-multimodal-food-data-management$2025-10-29T21-14-26Z$72b3e6e5ece452f537675217b7cc8fe1__00089c3010_0.jpg\n",
      "Found image: images/image$adsdb-multimodal-food-data-management$2025-10-29T21-14-26Z$7309215c1ecdbdfdca241376e56bd6bd__0006c5e4eb_0.jpg\n",
      "Found image: images/image$adsdb-multimodal-food-data-management$2025-10-29T21-14-26Z$76b064e7793ff50589b5a30296084630__0006354bc3_1.jpg\n",
      "Found image: images/image$adsdb-multimodal-food-data-management$2025-10-29T21-14-26Z$7f01f4e6109d990f3a2b1725592aca71__000238353f_0.jpg\n",
      "Found image: images/image$adsdb-multimodal-food-data-management$2025-10-29T21-14-26Z$83189752b485fd356984f8964f675bdf__0004073370_0.jpg\n",
      "Found image: images/image$adsdb-multimodal-food-data-management$2025-10-29T21-14-26Z$85ae0f868eeaff2e38971c848cbe8d71__00034ad6cc_1.jpg\n",
      "Found image: images/image$adsdb-multimodal-food-data-management$2025-10-29T21-14-26Z$8f1d8e67153f9cf2472502426b8ecf05__00034cf3f3_1.jpg\n",
      "Found image: images/image$adsdb-multimodal-food-data-management$2025-10-29T21-14-26Z$90edba3308a2ad4ed2d6cdc58e7e4a27__00016355e6_0.jpg\n",
      "Found image: images/image$adsdb-multimodal-food-data-management$2025-10-29T21-14-26Z$91a167b00e749337df943902c35bba1c__000984c4d3_0.jpg\n",
      "Found image: images/image$adsdb-multimodal-food-data-management$2025-10-29T21-14-26Z$93f4f81c3dcc8cf10d140eccdd36f3c3__00054e238b_0.jpg\n",
      "Found image: images/image$adsdb-multimodal-food-data-management$2025-10-29T21-14-26Z$97276ba02a887b528c09bd59dad3ce13__00082e1318_0.jpg\n",
      "Found image: images/image$adsdb-multimodal-food-data-management$2025-10-29T21-14-26Z$a4ceb432f1c35f0de4da866ab18b4656__00063fb14c_0.jpg\n",
      "Found image: images/image$adsdb-multimodal-food-data-management$2025-10-29T21-14-26Z$a558f045aadaf96e44b67c18e77b0a87__00010c7867_1.jpg\n",
      "Found image: images/image$adsdb-multimodal-food-data-management$2025-10-29T21-14-26Z$aa96ee07545dc7c815d404942f3f28c7__00047059be_0.jpg\n",
      "Found image: images/image$adsdb-multimodal-food-data-management$2025-10-29T21-14-26Z$b07c43b0325f168d7ce2b580d8e4b2a4__00003a70b1_0.jpg\n",
      "Found image: images/image$adsdb-multimodal-food-data-management$2025-10-29T21-14-26Z$b0fe8d68a5e1583737cced900cb58ff3__0008b8f5bc_2.jpg\n",
      "Found image: images/image$adsdb-multimodal-food-data-management$2025-10-29T21-14-26Z$bbde1e628998635ea8afb61510eeeddb__0008fab425_1.jpg\n",
      "Found image: images/image$adsdb-multimodal-food-data-management$2025-10-29T21-14-26Z$bdce510ea0e1856b7ab1d508f9a126bd__00098bc4cc_0.jpg\n",
      "Found image: images/image$adsdb-multimodal-food-data-management$2025-10-29T21-14-26Z$cf04ee4347486fe4e1e270b0d42e6278__0007a00526_0.jpg\n",
      "Found image: images/image$adsdb-multimodal-food-data-management$2025-10-29T21-14-26Z$cfd505481137b1714fdb8ac79fdc8320__00050108a0_0.jpg\n",
      "Found image: images/image$adsdb-multimodal-food-data-management$2025-10-29T21-14-26Z$dc5038364b2665f78442881d8c4dd660__0006354bc3_0.jpg\n",
      "Found image: images/image$adsdb-multimodal-food-data-management$2025-10-29T21-14-26Z$ddda811d95b5cda929185b50b56b757a__0008de82a3_0.jpg\n",
      "Found image: images/image$adsdb-multimodal-food-data-management$2025-10-29T21-14-26Z$e9da53b4f23ab299b2299f8cb8d83bee__00047059be_2.jpg\n",
      "Found image: images/image$adsdb-multimodal-food-data-management$2025-10-29T21-14-26Z$f048b362a2cd8db702bf00f52307e6d5__00007bfd16_1.jpg\n",
      "Found image: images/image$adsdb-multimodal-food-data-management$2025-10-29T21-14-26Z$f402ec01fc2d65a5bfb03727c59657ba__0004c091a0_0.jpg\n",
      "Found image: images/image$adsdb-multimodal-food-data-management$2025-10-29T21-14-26Z$fb5e74d207155ada179586fadfd41b4c__00034ad6cc_0.jpg\n",
      "Found image: images/image$adsdb-multimodal-food-data-management$2025-10-29T21-14-26Z$fdc2fdec3209bfc126175cfb4cc8fe56__0008fab425_3.jpg\n",
      "✅ Embedded + stored all images in local Chroma\n"
     ]
    }
   ],
   "source": [
    "image_keys = list_all_jpg_keys(TRUST_BUCKET, TRUST_IMAGES_PREFIX)\n",
    "\n",
    "BATCH = 128\n",
    "buf_ids, buf_imgs, buf_meta = [], [], []\n",
    "\n",
    "for i, key in enumerate(image_keys, 1):\n",
    "    try:\n",
    "        arr = get_np_from_minio(key)\n",
    "    except Exception:\n",
    "        arr = np.full((224,224,3), 255, dtype=np.uint8)  # fallback\n",
    "\n",
    "    buf_ids.append(key.replace(\"/\", \"__\"))\n",
    "    buf_imgs.append(arr)\n",
    "    buf_meta.append({\"type\": \"image\", \"object_key\": key, \"bucket\": TRUST_BUCKET})\n",
    "\n",
    "    if len(buf_ids) == BATCH or i == len(image_keys):\n",
    "        images_col.add(ids=buf_ids, images=buf_imgs, metadatas=buf_meta)\n",
    "        multi_col.add(ids=buf_ids, images=buf_imgs, metadatas=buf_meta)\n",
    "        buf_ids, buf_imgs, buf_meta = [], [], []\n",
    "\n",
    "print(\"✅ Embedded + stored all images in local Chroma\")\n"
   ]
  },
  {
   "cell_type": "markdown",
   "id": "6a44de3e",
   "metadata": {},
   "source": [
    "## 5. Test retreaval\n"
   ]
  },
  {
   "cell_type": "code",
   "execution_count": 10,
   "id": "212ea664",
   "metadata": {},
   "outputs": [
    {
     "data": {
      "text/plain": [
       "{'ids': [['images__image$adsdb-multimodal-food-data-management$2025-10-29T21-14-26Z$46ffc3890fb1c38ca6bf1520471269cf__0003d5b120_0.jpg',\n",
       "   'images__image$adsdb-multimodal-food-data-management$2025-10-29T21-14-26Z$178c1af104b971fe99d70bfdaf0b9f10__00059b093b_0.jpg',\n",
       "   'images__image$adsdb-multimodal-food-data-management$2025-10-29T21-14-26Z$2ae214acf9fa1e79658ea486f850525c__00034ad6cc_2.jpg',\n",
       "   'images__image$adsdb-multimodal-food-data-management$2025-10-29T21-14-26Z$bdce510ea0e1856b7ab1d508f9a126bd__00098bc4cc_0.jpg',\n",
       "   'images__image$adsdb-multimodal-food-data-management$2025-10-29T21-14-26Z$fb5e74d207155ada179586fadfd41b4c__00034ad6cc_0.jpg']],\n",
       " 'embeddings': None,\n",
       " 'documents': None,\n",
       " 'uris': None,\n",
       " 'included': ['metadatas', 'distances'],\n",
       " 'data': None,\n",
       " 'metadatas': [[{'bucket': 'trusted-zone',\n",
       "    'object_key': 'images/image$adsdb-multimodal-food-data-management$2025-10-29T21-14-26Z$46ffc3890fb1c38ca6bf1520471269cf__0003d5b120_0.jpg',\n",
       "    'type': 'image'},\n",
       "   {'object_key': 'images/image$adsdb-multimodal-food-data-management$2025-10-29T21-14-26Z$178c1af104b971fe99d70bfdaf0b9f10__00059b093b_0.jpg',\n",
       "    'bucket': 'trusted-zone',\n",
       "    'type': 'image'},\n",
       "   {'type': 'image',\n",
       "    'object_key': 'images/image$adsdb-multimodal-food-data-management$2025-10-29T21-14-26Z$2ae214acf9fa1e79658ea486f850525c__00034ad6cc_2.jpg',\n",
       "    'bucket': 'trusted-zone'},\n",
       "   {'type': 'image',\n",
       "    'bucket': 'trusted-zone',\n",
       "    'object_key': 'images/image$adsdb-multimodal-food-data-management$2025-10-29T21-14-26Z$bdce510ea0e1856b7ab1d508f9a126bd__00098bc4cc_0.jpg'},\n",
       "   {'object_key': 'images/image$adsdb-multimodal-food-data-management$2025-10-29T21-14-26Z$fb5e74d207155ada179586fadfd41b4c__00034ad6cc_0.jpg',\n",
       "    'type': 'image',\n",
       "    'bucket': 'trusted-zone'}]],\n",
       " 'distances': [[0.7677895426750183,\n",
       "   0.780129075050354,\n",
       "   0.7860761284828186,\n",
       "   0.7867321968078613,\n",
       "   0.7927603721618652]]}"
      ]
     },
     "execution_count": 10,
     "metadata": {},
     "output_type": "execute_result"
    }
   ],
   "source": [
    "# Text → Image (cross-modal CLIP search)\n",
    "res = images_col.query(\n",
    "    query_texts=[\"pasta with tomato and basil\"],\n",
    "    n_results=5,\n",
    "    include=[\"metadatas\",\"distances\"]\n",
    ")\n",
    "res\n"
   ]
  }
 ],
 "metadata": {
  "kernelspec": {
   "display_name": ".venv",
   "language": "python",
   "name": "python3"
  },
  "language_info": {
   "codemirror_mode": {
    "name": "ipython",
    "version": 3
   },
   "file_extension": ".py",
   "mimetype": "text/x-python",
   "name": "python",
   "nbconvert_exporter": "python",
   "pygments_lexer": "ipython3",
   "version": "3.12.11"
  }
 },
 "nbformat": 4,
 "nbformat_minor": 5
}
