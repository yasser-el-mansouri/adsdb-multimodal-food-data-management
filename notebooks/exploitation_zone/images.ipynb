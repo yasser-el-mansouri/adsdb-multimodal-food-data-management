{
 "cells": [
  {
   "cell_type": "markdown",
   "id": "ff0d1fb6",
   "metadata": {},
   "source": [
    "# Exploitation Zone — Image Processing\n",
    "\n",
    "This notebook handles the **image processing** step for the Exploitation Zone of our data pipeline.  \n",
    "Its primary goal is to:\n",
    "\n",
    "1. **Load images** from the Trusted Zone\n",
    "2. **Generate embeddings** from the images in the Trusted Zone\n",
    "3. **Store the embeddings** in ChromaDB\n",
    "\n"
   ]
  },
  {
   "cell_type": "markdown",
   "id": "22565c83",
   "metadata": {},
   "source": [
    "## 1. Setup and Configuration\n"
   ]
  },
  {
   "cell_type": "code",
   "execution_count": 1,
   "id": "e613ebe0",
   "metadata": {},
   "outputs": [],
   "source": [
    "import os, io, json, re\n",
    "from pathlib import PurePosixPath\n",
    "from datetime import datetime, timezone\n",
    "from typing import Dict, List, Set, Iterable\n",
    "\n",
    "import boto3\n",
    "from botocore.config import Config\n",
    "from botocore.exceptions import ClientError\n",
    "from dotenv import load_dotenv\n",
    "\n",
    "import chromadb\n",
    "from chromadb import PersistentClient\n",
    "from chromadb.utils.embedding_functions import OpenCLIPEmbeddingFunction\n",
    "\n",
    "import numpy as np\n",
    "from PIL import Image\n",
    "\n",
    "load_dotenv()\n",
    "\n",
    "# S3 / MinIO Configuration\n",
    "MINIO_USER     = os.getenv(\"MINIO_USER\")\n",
    "MINIO_PASSWORD = os.getenv(\"MINIO_PASSWORD\")\n",
    "MINIO_ENDPOINT = os.getenv(\"MINIO_ENDPOINT\")\n",
    "\n",
    "session = boto3.session.Session(\n",
    "    aws_access_key_id=MINIO_USER,\n",
    "    aws_secret_access_key=MINIO_PASSWORD,\n",
    "    region_name=\"us-east-1\"\n",
    ")\n",
    "s3 = session.client(\n",
    "    \"s3\",\n",
    "    endpoint_url=MINIO_ENDPOINT,\n",
    "    config=Config(signature_version=\"s3v4\", s3={\"addressing_style\": \"path\"})\n",
    ")\n",
    "\n",
    "# Paths and Buckets\n",
    "TRUST_BUCKET        = \"trusted-zone\"\n",
    "TRUST_IMAGES_PREFIX = \"images\"\n",
    "\n",
    "# ChromaDB Persistent Client\n",
    "PERSIST_DIR = os.getenv(\"CHROMA_PERSIST_DIR\")\n",
    "\n",
    "# Behavior flags\n",
    "DRY_RUN   = False\n",
    "OVERWRITE = True\n",
    "\n",
    "def utc_ts():\n",
    "    return datetime.now(timezone.utc).strftime(\"%Y-%m-%dT%H-%M-%SZ\")"
   ]
  },
  {
   "cell_type": "markdown",
   "id": "0c35a110",
   "metadata": {},
   "source": [
    "## 2. S3 Helper Functions\n",
    "\n",
    "These utility functions provide a clean interface for S3 operations, handling common patterns like listing objects, checking existence, and copying files between buckets.\n"
   ]
  },
  {
   "cell_type": "code",
   "execution_count": 47,
   "id": "7cabb61c",
   "metadata": {},
   "outputs": [],
   "source": [
    "def list_all_jpg_keys(bucket: str, prefix: str):\n",
    "    keys, token = [], None\n",
    "    while True:\n",
    "        kwargs = {\"Bucket\": bucket, \"Prefix\": prefix, \"MaxKeys\": 1000}\n",
    "        if token: kwargs[\"ContinuationToken\"] = token\n",
    "        resp = s3.list_objects_v2(**kwargs)\n",
    "        for obj in resp.get(\"Contents\", []):\n",
    "            k = obj[\"Key\"]\n",
    "            if k.lower().endswith(\".jpg\") or k.lower().endswith(\".jpeg\"):\n",
    "                # store keys relative to the prefix (cleaner IDs)\n",
    "                keys.append(k)\n",
    "                print(f\"Found image: {keys[-1]}\")\n",
    "        token = resp.get(\"NextContinuationToken\")\n",
    "        if not token:\n",
    "            break\n",
    "    return keys\n",
    "\n",
    "def get_np_from_minio(key: str) -> np.ndarray:\n",
    "    obj = s3.get_object(Bucket=MINIO_BUCKET, Key=key)\n",
    "    return np.array(Image.open(io.BytesIO(obj[\"Body\"].read())).convert(\"RGB\"))\n"
   ]
  },
  {
   "cell_type": "markdown",
   "id": "3a9b5ecd",
   "metadata": {},
   "source": [
    "## 1. Create and/or connect to the chromaDB\n"
   ]
  },
  {
   "cell_type": "code",
   "execution_count": 48,
   "id": "450cc940",
   "metadata": {},
   "outputs": [
    {
     "name": "stdout",
     "output_type": "stream",
     "text": [
      "✅ Chroma DB directory: ./chroma_exploitation\n"
     ]
    }
   ],
   "source": [
    "from chromadb import PersistentClient\n",
    "from chromadb.utils.embedding_functions import OpenCLIPEmbeddingFunction\n",
    "\n",
    "chroma_client = PersistentClient(path=PERSIST_DIR)\n",
    "ef_img = OpenCLIPEmbeddingFunction()\n",
    "\n",
    "images_col = chroma_client.get_or_create_collection(\n",
    "    name=\"trusted_zone_images\",\n",
    "    embedding_function=ef_img,\n",
    "    metadata={\"modality\": \"image\", \"model\": \"OpenCLIP\", \"source\": \"minio\"}\n",
    ")\n",
    "print(\"✅ Chroma DB directory:\", PERSIST_DIR)\n"
   ]
  },
  {
   "cell_type": "markdown",
   "id": "935022c6",
   "metadata": {},
   "source": [
    "## 1. Generate embeddings and store in chromaDB\n"
   ]
  },
  {
   "cell_type": "code",
   "execution_count": 50,
   "id": "ba5d4497",
   "metadata": {},
   "outputs": [
    {
     "name": "stdout",
     "output_type": "stream",
     "text": [
      "Found image: images/image$adsdb-multimodal-food-data-management$image_adsdb-multimodal-food-data-management_2025-10-18T12-33-48Z_19214085d36fb535c7dbf24d178dea1b__000095fc1d_0.jpg\n",
      "Found image: images/image$adsdb-multimodal-food-data-management$image_adsdb-multimodal-food-data-management_2025-10-18T12-33-48Z_1a426726a1e467b8e6360e980b03f611__00003a70b1_1.jpg\n",
      "Found image: images/image$adsdb-multimodal-food-data-management$image_adsdb-multimodal-food-data-management_2025-10-18T12-33-48Z_1b1a47ccbb9d3b879c21952c03111b34__00003a70b1_2.jpg\n",
      "Found image: images/image$adsdb-multimodal-food-data-management$image_adsdb-multimodal-food-data-management_2025-10-18T12-33-48Z_4786052a58187b0a9c875fde7cf940c9__00010c7867_0.jpg\n",
      "Found image: images/image$adsdb-multimodal-food-data-management$image_adsdb-multimodal-food-data-management_2025-10-18T12-33-48Z_6aaf18e8462526c1298ea0ccfaa861a5__0000b1e2b5_0.jpg\n",
      "Found image: images/image$adsdb-multimodal-food-data-management$image_adsdb-multimodal-food-data-management_2025-10-18T12-33-48Z_6e0720efb93c1e5c1719b5b4c0c4cd7e__0000c79afb_0.jpg\n",
      "Found image: images/image$adsdb-multimodal-food-data-management$image_adsdb-multimodal-food-data-management_2025-10-18T12-33-48Z_89e502dee0f72c8b4b9382d5566e84c3__00010d44c7_0.jpg\n",
      "Found image: images/image$adsdb-multimodal-food-data-management$image_adsdb-multimodal-food-data-management_2025-10-18T12-33-48Z_9e7c94ba98c15fd4bf9c2014acc3a8d6__00007bfd16_0.jpg\n",
      "Found image: images/image$adsdb-multimodal-food-data-management$image_adsdb-multimodal-food-data-management_2025-10-18T12-33-48Z_a558f045aadaf96e44b67c18e77b0a87__00010c7867_1.jpg\n",
      "Found image: images/image$adsdb-multimodal-food-data-management$image_adsdb-multimodal-food-data-management_2025-10-18T12-33-48Z_b07c43b0325f168d7ce2b580d8e4b2a4__00003a70b1_0.jpg\n",
      "Found image: images/image$adsdb-multimodal-food-data-management$image_adsdb-multimodal-food-data-management_2025-10-18T12-33-48Z_f048b362a2cd8db702bf00f52307e6d5__00007bfd16_1.jpg\n",
      "✅ Embedded + stored all images in local Chroma\n"
     ]
    }
   ],
   "source": [
    "image_keys = list_all_jpg_keys(TRUST_BUCKET, TRUST_IMAGES_PREFIX)\n",
    "\n",
    "BATCH = 128\n",
    "buf_ids, buf_imgs, buf_meta = [], [], []\n",
    "\n",
    "for i, key in enumerate(image_keys, 1):\n",
    "    try:\n",
    "        arr = get_np_from_minio(key)\n",
    "    except Exception:\n",
    "        arr = np.full((224,224,3), 255, dtype=np.uint8)  # fallback\n",
    "\n",
    "    buf_ids.append(key.replace(\"/\", \"__\"))\n",
    "    buf_imgs.append(arr)\n",
    "    buf_meta.append({\"object_key\": key, \"bucket\": TRUST_BUCKET})\n",
    "\n",
    "    if len(buf_ids) == BATCH or i == len(image_keys):\n",
    "        images_col.add(ids=buf_ids, images=buf_imgs, metadatas=buf_meta)\n",
    "        buf_ids, buf_imgs, buf_meta = [], [], []\n",
    "\n",
    "print(\"✅ Embedded + stored all images in local Chroma\")\n"
   ]
  },
  {
   "cell_type": "markdown",
   "id": "6a44de3e",
   "metadata": {},
   "source": [
    "## 1. Test retreaval\n"
   ]
  },
  {
   "cell_type": "code",
   "execution_count": 51,
   "id": "212ea664",
   "metadata": {},
   "outputs": [
    {
     "data": {
      "text/plain": [
       "{'ids': [['images__image$adsdb-multimodal-food-data-management$image_adsdb-multimodal-food-data-management_2025-10-18T12-33-48Z_1b1a47ccbb9d3b879c21952c03111b34__00003a70b1_2.jpg',\n",
       "   'images__image$adsdb-multimodal-food-data-management$image_adsdb-multimodal-food-data-management_2025-10-18T12-33-48Z_6aaf18e8462526c1298ea0ccfaa861a5__0000b1e2b5_0.jpg',\n",
       "   'images__image$adsdb-multimodal-food-data-management$image_adsdb-multimodal-food-data-management_2025-10-18T12-33-48Z_6e0720efb93c1e5c1719b5b4c0c4cd7e__0000c79afb_0.jpg',\n",
       "   'images__image$adsdb-multimodal-food-data-management$image_adsdb-multimodal-food-data-management_2025-10-18T12-33-48Z_89e502dee0f72c8b4b9382d5566e84c3__00010d44c7_0.jpg',\n",
       "   'images__image$adsdb-multimodal-food-data-management$image_adsdb-multimodal-food-data-management_2025-10-18T12-33-48Z_b07c43b0325f168d7ce2b580d8e4b2a4__00003a70b1_0.jpg']],\n",
       " 'embeddings': None,\n",
       " 'documents': None,\n",
       " 'uris': None,\n",
       " 'included': ['metadatas', 'distances'],\n",
       " 'data': None,\n",
       " 'metadatas': [[{'bucket': 'trusted-zone',\n",
       "    'object_key': 'images/image$adsdb-multimodal-food-data-management$image_adsdb-multimodal-food-data-management_2025-10-18T12-33-48Z_1b1a47ccbb9d3b879c21952c03111b34__00003a70b1_2.jpg'},\n",
       "   {'object_key': 'images/image$adsdb-multimodal-food-data-management$image_adsdb-multimodal-food-data-management_2025-10-18T12-33-48Z_6aaf18e8462526c1298ea0ccfaa861a5__0000b1e2b5_0.jpg',\n",
       "    'bucket': 'trusted-zone'},\n",
       "   {'object_key': 'images/image$adsdb-multimodal-food-data-management$image_adsdb-multimodal-food-data-management_2025-10-18T12-33-48Z_6e0720efb93c1e5c1719b5b4c0c4cd7e__0000c79afb_0.jpg',\n",
       "    'bucket': 'trusted-zone'},\n",
       "   {'object_key': 'images/image$adsdb-multimodal-food-data-management$image_adsdb-multimodal-food-data-management_2025-10-18T12-33-48Z_89e502dee0f72c8b4b9382d5566e84c3__00010d44c7_0.jpg',\n",
       "    'bucket': 'trusted-zone'},\n",
       "   {'bucket': 'trusted-zone',\n",
       "    'object_key': 'images/image$adsdb-multimodal-food-data-management$image_adsdb-multimodal-food-data-management_2025-10-18T12-33-48Z_b07c43b0325f168d7ce2b580d8e4b2a4__00003a70b1_0.jpg'}]],\n",
       " 'distances': [[0.816571831703186,\n",
       "   0.816571831703186,\n",
       "   0.816571831703186,\n",
       "   0.816571831703186,\n",
       "   0.816571831703186]]}"
      ]
     },
     "execution_count": 51,
     "metadata": {},
     "output_type": "execute_result"
    }
   ],
   "source": [
    "# Text → Image (cross-modal CLIP search)\n",
    "res = images_col.query(\n",
    "    query_texts=[\"pasta with tomato and basil\"],\n",
    "    n_results=5,\n",
    "    include=[\"metadatas\",\"distances\"]\n",
    ")\n",
    "res\n"
   ]
  }
 ],
 "metadata": {
  "kernelspec": {
   "display_name": ".venv",
   "language": "python",
   "name": "python3"
  },
  "language_info": {
   "codemirror_mode": {
    "name": "ipython",
    "version": 3
   },
   "file_extension": ".py",
   "mimetype": "text/x-python",
   "name": "python",
   "nbconvert_exporter": "python",
   "pygments_lexer": "ipython3",
   "version": "3.12.0"
  }
 },
 "nbformat": 4,
 "nbformat_minor": 5
}
