{
 "cells": [
  {
   "cell_type": "code",
   "execution_count": 1,
   "id": "d4c522da",
   "metadata": {},
   "outputs": [
    {
     "name": "stderr",
     "output_type": "stream",
     "text": [
      "c:\\Users\\yasse\\Documents\\UNI\\Master\\DS\\ADSDB\\project\\adsdb-multimodal-food-data-management\\.venv\\Lib\\site-packages\\tqdm\\auto.py:21: TqdmWarning: IProgress not found. Please update jupyter and ipywidgets. See https://ipywidgets.readthedocs.io/en/stable/user_install.html\n",
      "  from .autonotebook import tqdm as notebook_tqdm\n"
     ]
    }
   ],
   "source": [
    "import os\n",
    "from dotenv import load_dotenv\n",
    "from datasets import  load_dataset\n",
    "from huggingface_hub import HfApi, hf_hub_url\n",
    "import s3fs\n",
    "from os.path import basename\n",
    "import requests\n",
    "import base64"
   ]
  },
  {
   "cell_type": "code",
   "execution_count": 9,
   "id": "d5f673ca",
   "metadata": {},
   "outputs": [],
   "source": [
    "load_dotenv()\n",
    "HF_TOKEN=os.getenv(\"HF_TOKEN\")\n",
    "HF_ORGA=os.getenv(\"HF_ORGA\")\n",
    "HF_DATASET=os.getenv(\"HF_DATASET\")\n",
    "HF_REV=os.getenv(\"HF_REV\")\n",
    "MINIO_PASSWORD=os.getenv(\"MINIO_PASSWORD\")\n",
    "MINIO_USER=os.getenv(\"MINIO_USER\")\n",
    "MINIO_ENDPOINT=os.getenv(\"MINIO_ENDPOINT\")\n",
    "MINIO_BUCKET=os.getenv(\"MINIO_BUCKET\")"
   ]
  },
  {
   "cell_type": "code",
   "execution_count": 3,
   "id": "2f0481fd",
   "metadata": {},
   "outputs": [],
   "source": [
    "api = HfApi()\n",
    "info = api.whoami(token=HF_TOKEN)"
   ]
  },
  {
   "cell_type": "code",
   "execution_count": 15,
   "id": "a60e21ee",
   "metadata": {},
   "outputs": [],
   "source": [
    "fs = s3fs.S3FileSystem(\n",
    "    key=MINIO_USER,\n",
    "    secret=MINIO_PASSWORD,\n",
    "    client_kwargs={\"endpoint_url\": MINIO_ENDPOINT}\n",
    ")"
   ]
  },
  {
   "cell_type": "code",
   "execution_count": 5,
   "id": "faf4321f",
   "metadata": {},
   "outputs": [],
   "source": [
    "import json"
   ]
  },
  {
   "cell_type": "code",
   "execution_count": 7,
   "id": "fb22fc3f",
   "metadata": {},
   "outputs": [
    {
     "name": "stdout",
     "output_type": "stream",
     "text": [
      "Collecting ijson\n",
      "  Downloading ijson-3.4.0-cp312-cp312-win_amd64.whl.metadata (22 kB)\n",
      "Requirement already satisfied: requests in c:\\users\\yasse\\documents\\uni\\master\\ds\\adsdb\\project\\adsdb-multimodal-food-data-management\\.venv\\lib\\site-packages (2.32.5)\n",
      "Requirement already satisfied: pillow in c:\\users\\yasse\\documents\\uni\\master\\ds\\adsdb\\project\\adsdb-multimodal-food-data-management\\.venv\\lib\\site-packages (11.3.0)\n",
      "Requirement already satisfied: charset_normalizer<4,>=2 in c:\\users\\yasse\\documents\\uni\\master\\ds\\adsdb\\project\\adsdb-multimodal-food-data-management\\.venv\\lib\\site-packages (from requests) (3.4.3)\n",
      "Requirement already satisfied: idna<4,>=2.5 in c:\\users\\yasse\\documents\\uni\\master\\ds\\adsdb\\project\\adsdb-multimodal-food-data-management\\.venv\\lib\\site-packages (from requests) (3.10)\n",
      "Requirement already satisfied: urllib3<3,>=1.21.1 in c:\\users\\yasse\\documents\\uni\\master\\ds\\adsdb\\project\\adsdb-multimodal-food-data-management\\.venv\\lib\\site-packages (from requests) (2.5.0)\n",
      "Requirement already satisfied: certifi>=2017.4.17 in c:\\users\\yasse\\documents\\uni\\master\\ds\\adsdb\\project\\adsdb-multimodal-food-data-management\\.venv\\lib\\site-packages (from requests) (2025.8.3)\n",
      "Downloading ijson-3.4.0-cp312-cp312-win_amd64.whl (54 kB)\n",
      "Installing collected packages: ijson\n",
      "Successfully installed ijson-3.4.0\n"
     ]
    }
   ],
   "source": [
    "#!pip install ijson requests pillow\n"
   ]
  },
  {
   "cell_type": "code",
   "execution_count": null,
   "id": "814616c2",
   "metadata": {},
   "outputs": [
    {
     "name": "stdout",
     "output_type": "stream",
     "text": [
      "✅ Reorganización completada.\n",
      "  → metadata: 4 archivos\n",
      "  → images:   17 archivos\n",
      "  → others:   0 archivos\n",
      "  (saltados por existir en destino: 0)\n",
      "Destino base: landing-zone/persistent_landing\n"
     ]
    }
   ],
   "source": [
    "# TODO persistent landing zone\n",
    "\n",
    "# --- Reorganizar temporal_landing -> persistent_landing por tipo con naming <type>$<filename>.<format> ---\n",
    "import os\n",
    "from os.path import splitext\n",
    "\n",
    "# Orígenes y destinos en MinIO\n",
    "SRC_BASE = f\"{MINIO_BUCKET}/temporal_landing\"\n",
    "DST_BASE = f\"{MINIO_BUCKET}/persistent_landing\"\n",
    "DIR_METADATA = f\"{DST_BASE}/metadata\"\n",
    "DIR_IMAGES   = f\"{DST_BASE}/images\"\n",
    "DIR_OTHERS   = f\"{DST_BASE}/others\"\n",
    "\n",
    "# Extensiones por categoría (case-insensitive)\n",
    "META_EXTS = {\".json\", \".jsonl\", \".ndjson\", \".csv\", \".tsv\", \".parquet\", \".yaml\", \".yml\", \".txt\"}\n",
    "IMG_EXTS  = {\".jpg\", \".jpeg\", \".png\", \".gif\", \".bmp\", \".webp\", \".tiff\", \".tif\"}\n",
    "\n",
    "def classify_ext(path: str) -> str:\n",
    "    ext = splitext(path)[1].lower()\n",
    "    if ext in IMG_EXTS:\n",
    "        return \"images\"\n",
    "    if ext in META_EXTS:\n",
    "        return \"metadata\"\n",
    "    return \"others\"\n",
    "\n",
    "def build_dest_name(kind: str, base_name: str) -> str:\n",
    "    \"\"\"\n",
    "    Convierte p.ej. 'ADSDB-DYS__recipe1M_layers__layer1.json'\n",
    "    -> 'metadata$ADSDB-DYS__recipe1M_layers__layer1.json'\n",
    "    \"\"\"\n",
    "    name_root, ext = splitext(base_name)\n",
    "    fmt = ext[1:].lower() if ext else \"bin\"  # formato; si no hay extensión, usa 'bin'\n",
    "    return f\"{kind}${name_root}.{fmt}\"\n",
    "\n",
    "def copy_minio(src_path: str, dst_path: str, chunk_mb: int = 4):\n",
    "    \"\"\"\n",
    "    Copia dentro del mismo fs. Si existe copy() se usa server-side.\n",
    "    Si no, se hace streaming (lee y escribe en chunks).\n",
    "    \"\"\"\n",
    "    # Evita sobreescribir si ya existe\n",
    "    if fs.exists(dst_path):\n",
    "        return \"skipped\"\n",
    "\n",
    "    # Si el filesystem soporta copy server-side, úsalo (rápido y sin sacar datos)\n",
    "    if hasattr(fs, \"copy\"):\n",
    "        try:\n",
    "            fs.copy(src_path, dst_path)\n",
    "            return \"copied\"\n",
    "        except Exception:\n",
    "            # fallback a streaming\n",
    "            pass\n",
    "\n",
    "    # Streaming fallback\n",
    "    with fs.open(src_path, \"rb\") as fr, fs.open(dst_path, \"wb\") as fw:\n",
    "        while True:\n",
    "            chunk = fr.read(chunk_mb * 1024 * 1024)\n",
    "            if not chunk:\n",
    "                break\n",
    "            fw.write(chunk)\n",
    "    return \"copied\"\n",
    "\n",
    "# Listado recursivo del origen (todas las \"keys\" bajo temporal_landing)\n",
    "paths = fs.find(SRC_BASE)\n",
    "\n",
    "moved_meta = moved_img = moved_oth = 0\n",
    "skipped = 0\n",
    "\n",
    "for src in paths:\n",
    "    # Suele listar solo ficheros; por si acaso, salta \"directorios\"\n",
    "    if src.endswith(\"/\") or src.endswith(\".keep\"):\n",
    "        continue\n",
    "\n",
    "    # Nombre base (lo que hay tras temporal_landing/)\n",
    "    base_name = src.rsplit(\"/\", 1)[-1]\n",
    "\n",
    "    # TODO audio and images\n",
    "    # Clasificación y carpeta destino\n",
    "    kind = classify_ext(base_name)\n",
    "    if kind == \"metadata\":\n",
    "        dst_dir = DIR_METADATA\n",
    "    elif kind == \"images\":\n",
    "        dst_dir = DIR_IMAGES\n",
    "    else:\n",
    "        dst_dir = DIR_OTHERS\n",
    "\n",
    "    # Nuevo nombre con convención <type>$<filename>.<format>\n",
    "    dest_name = build_dest_name(kind, base_name)\n",
    "    dst = f\"{dst_dir}/{dest_name}\"\n",
    "\n",
    "    status = copy_minio(src, dst)\n",
    "    if status == \"skipped\":\n",
    "        skipped += 1\n",
    "    else:\n",
    "        if kind == \"metadata\":\n",
    "            moved_meta += 1\n",
    "        elif kind == \"images\":\n",
    "            moved_img += 1\n",
    "        else:\n",
    "            moved_oth += 1\n",
    "\n",
    "print(\"✅ Reorganización completada.\")\n",
    "print(f\"  → metadata: {moved_meta} archivos\")\n",
    "print(f\"  → images:   {moved_img} archivos\")\n",
    "print(f\"  → others:   {moved_oth} archivos\")\n",
    "print(f\"  (saltados por existir en destino: {skipped})\")\n",
    "print(f\"Destino base: {DST_BASE}\")\n"
   ]
  }
 ],
 "metadata": {
  "kernelspec": {
   "display_name": ".venv",
   "language": "python",
   "name": "python3"
  },
  "language_info": {
   "codemirror_mode": {
    "name": "ipython",
    "version": 3
   },
   "file_extension": ".py",
   "mimetype": "text/x-python",
   "name": "python",
   "nbconvert_exporter": "python",
   "pygments_lexer": "ipython3",
   "version": "3.12.1"
  }
 },
 "nbformat": 4,
 "nbformat_minor": 5
}
