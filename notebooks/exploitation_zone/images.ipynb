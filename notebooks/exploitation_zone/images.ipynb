{
 "cells": [
  {
   "cell_type": "markdown",
   "id": "ff0d1fb6",
   "metadata": {},
   "source": [
    "# Exploitation Zone — Image Processing\n",
    "\n",
    "This notebook handles the **image processing** step for the Exploitation Zone of our data pipeline.  \n",
    "Its primary goal is to:\n",
    "\n",
    "1. **Load images** from the Trusted Zone\n",
    "2. **Generate embeddings** from the images in the Trusted Zone\n",
    "3. **Store the embeddings** in ChromaDB\n",
    "\n"
   ]
  },
  {
   "cell_type": "markdown",
   "id": "22565c83",
   "metadata": {},
   "source": [
    "## 1. Setup and Configuration\n"
   ]
  },
  {
   "cell_type": "code",
   "execution_count": null,
   "id": "e613ebe0",
   "metadata": {},
   "outputs": [],
   "source": [
    "import os, io\n",
    "from datetime import datetime, timezone\n",
    "\n",
    "import boto3\n",
    "from botocore.config import Config\n",
    "from dotenv import load_dotenv\n",
    "\n",
    "from chromadb import PersistentClient\n",
    "from chromadb.utils.embedding_functions import OpenCLIPEmbeddingFunction\n",
    "\n",
    "import numpy as np\n",
    "from PIL import Image\n",
    "\n",
    "load_dotenv()\n",
    "\n",
    "# S3 / MinIO Configuration\n",
    "MINIO_USER     = os.getenv(\"MINIO_USER\")\n",
    "MINIO_PASSWORD = os.getenv(\"MINIO_PASSWORD\")\n",
    "MINIO_ENDPOINT = os.getenv(\"MINIO_ENDPOINT\")\n",
    "\n",
    "session = boto3.session.Session(\n",
    "    aws_access_key_id=MINIO_USER,\n",
    "    aws_secret_access_key=MINIO_PASSWORD,\n",
    "    region_name=\"us-east-1\"\n",
    ")\n",
    "s3 = session.client(\n",
    "    \"s3\",\n",
    "    endpoint_url=MINIO_ENDPOINT,\n",
    "    config=Config(signature_version=\"s3v4\", s3={\"addressing_style\": \"path\"})\n",
    ")\n",
    "\n",
    "# Paths and Buckets\n",
    "TRUST_BUCKET        = \"trusted-zone\"\n",
    "TRUST_IMAGES_PREFIX = \"images\"\n",
    "\n",
    "# ChromaDB Persistent Client\n",
    "PERSIST_DIR = os.getenv(\"CHROMA_PERSIST_DIR\")\n",
    "\n",
    "def utc_ts():\n",
    "    return datetime.now(timezone.utc).strftime(\"%Y-%m-%dT%H-%M-%SZ\")"
   ]
  },
  {
   "cell_type": "markdown",
   "id": "0c35a110",
   "metadata": {},
   "source": [
    "## 2. S3 Helper Functions\n",
    "\n",
    "These utility functions provide a clean interface for S3 operations, handling common patterns like listing objects, checking existence, and copying files between buckets.\n"
   ]
  },
  {
   "cell_type": "code",
   "execution_count": null,
   "id": "7cabb61c",
   "metadata": {},
   "outputs": [],
   "source": [
    "def list_all_jpg_keys(bucket: str, prefix: str):\n",
    "    keys, token = [], None\n",
    "    while True:\n",
    "        kwargs = {\"Bucket\": bucket, \"Prefix\": prefix, \"MaxKeys\": 1000}\n",
    "        if token: kwargs[\"ContinuationToken\"] = token\n",
    "        resp = s3.list_objects_v2(**kwargs)\n",
    "        for obj in resp.get(\"Contents\", []):\n",
    "            k = obj[\"Key\"]\n",
    "            if k.lower().endswith(\".jpg\") or k.lower().endswith(\".jpeg\"):\n",
    "                # store keys relative to the prefix (cleaner IDs)\n",
    "                keys.append(k)\n",
    "                print(f\"Found image: {keys[-1]}\")\n",
    "        token = resp.get(\"NextContinuationToken\")\n",
    "        if not token:\n",
    "            break\n",
    "    return keys\n",
    "\n",
    "def get_np_from_minio(key: str) -> np.ndarray:\n",
    "    obj = s3.get_object(Bucket=TRUST_BUCKET, Key=key)\n",
    "    return np.array(Image.open(io.BytesIO(obj[\"Body\"].read())).convert(\"RGB\"))\n"
   ]
  },
  {
   "cell_type": "markdown",
   "id": "3a9b5ecd",
   "metadata": {},
   "source": [
    "## 3. Create and/or connect to the chromaDB\n"
   ]
  },
  {
   "cell_type": "code",
   "execution_count": null,
   "id": "450cc940",
   "metadata": {},
   "outputs": [],
   "source": [
    "chroma_client = PersistentClient(path=PERSIST_DIR)\n",
    "ef_img = OpenCLIPEmbeddingFunction()\n",
    "\n",
    "images_name = \"trusted_zone_images\"\n",
    "multi_name = \"trusted_zone_multimodal\"\n",
    "\n",
    "images_col = chroma_client.get_or_create_collection(\n",
    "    name=images_name,\n",
    "    embedding_function=ef_img,\n",
    "    metadata={\"modality\": \"image\", \"model\": \"OpenCLIP\", \"source\": \"minio\"}\n",
    ")\n",
    "multi_col = chroma_client.get_or_create_collection(\n",
    "    name=multi_name,\n",
    "    embedding_function=ef_img,\n",
    "    metadata={\"modality\": \"multimodal\", \"model\": \"OpenCLIP\", \"source\": \"minio\"}\n",
    ")\n",
    "print(\"✅ Chroma DB directory:\", PERSIST_DIR)\n"
   ]
  },
  {
   "cell_type": "markdown",
   "id": "935022c6",
   "metadata": {},
   "source": [
    "## 4. Generate embeddings and store in chromaDB\n"
   ]
  },
  {
   "cell_type": "code",
   "execution_count": null,
   "id": "ba5d4497",
   "metadata": {},
   "outputs": [],
   "source": [
    "image_keys = list_all_jpg_keys(TRUST_BUCKET, TRUST_IMAGES_PREFIX)\n",
    "\n",
    "BATCH = 128\n",
    "buf_ids, buf_imgs, buf_meta = [], [], []\n",
    "\n",
    "for i, key in enumerate(image_keys, 1):\n",
    "    try:\n",
    "        arr = get_np_from_minio(key)\n",
    "    except Exception:\n",
    "        arr = np.full((224,224,3), 255, dtype=np.uint8)  # fallback\n",
    "\n",
    "    buf_ids.append(key.replace(\"/\", \"__\"))\n",
    "    buf_imgs.append(arr)\n",
    "    buf_meta.append({\"type\": \"image\", \"object_key\": key, \"bucket\": TRUST_BUCKET})\n",
    "\n",
    "    if len(buf_ids) == BATCH or i == len(image_keys):\n",
    "        images_col.add(ids=buf_ids, images=buf_imgs, metadatas=buf_meta)\n",
    "        multi_col.add(ids=buf_ids, images=buf_imgs, metadatas=buf_meta)\n",
    "        buf_ids, buf_imgs, buf_meta = [], [], []\n",
    "\n",
    "print(\"✅ Embedded + stored all images in local Chroma\")\n"
   ]
  },
  {
   "cell_type": "markdown",
   "id": "6a44de3e",
   "metadata": {},
   "source": [
    "## 5. Test retreaval\n"
   ]
  },
  {
   "cell_type": "code",
   "execution_count": null,
   "id": "212ea664",
   "metadata": {},
   "outputs": [],
   "source": [
    "# Text → Image (cross-modal CLIP search)\n",
    "res = images_col.query(\n",
    "    query_texts=[\"pasta with tomato and basil\"],\n",
    "    n_results=5,\n",
    "    include=[\"metadatas\",\"distances\"]\n",
    ")\n",
    "res\n"
   ]
  }
 ],
 "metadata": {
  "kernelspec": {
   "display_name": ".venv",
   "language": "python",
   "name": "python3"
  },
  "language_info": {
   "codemirror_mode": {
    "name": "ipython",
    "version": 3
   },
   "file_extension": ".py",
   "mimetype": "text/x-python",
   "name": "python",
   "nbconvert_exporter": "python",
   "pygments_lexer": "ipython3",
   "version": "3.12.0"
  }
 },
 "nbformat": 4,
 "nbformat_minor": 5
}
