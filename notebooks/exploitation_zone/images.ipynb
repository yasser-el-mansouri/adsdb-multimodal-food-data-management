{
 "cells": [
  {
   "cell_type": "markdown",
   "id": "ff0d1fb6",
   "metadata": {},
   "source": [
    "# Exploitation Zone — Image Processing\n",
    "\n",
    "This notebook handles the **image processing** step for the Exploitation Zone of our data pipeline.  \n",
    "Its primary goal is to:\n",
    "\n",
    "1. **Load images** from the Trusted Zone\n",
    "2. **Generate embeddings** from the images in the Trusted Zone\n",
    "3. **Store the embeddings** in ChromaDB\n",
    "\n"
   ]
  },
  {
   "cell_type": "markdown",
   "id": "22565c83",
   "metadata": {},
   "source": [
    "## 1. Setup and Configuration\n"
   ]
  },
  {
   "cell_type": "code",
   "execution_count": null,
   "id": "e613ebe0",
   "metadata": {},
   "outputs": [],
   "source": [
    "import os, io, json, re\n",
    "from pathlib import PurePosixPath\n",
    "from datetime import datetime, timezone\n",
    "from typing import Dict, List, Set, Iterable\n",
    "\n",
    "import boto3\n",
    "from botocore.config import Config\n",
    "from botocore.exceptions import ClientError\n",
    "from dotenv import load_dotenv\n",
    "\n",
    "from chromadb import PersistentClient\n",
    "from chromadb.utils.embedding_functions import OpenCLIPEmbeddingFunction\n",
    "\n",
    "import numpy as np\n",
    "from PIL import Image\n",
    "\n",
    "load_dotenv()\n",
    "\n",
    "# S3 / MinIO Configuration\n",
    "MINIO_USER     = os.getenv(\"MINIO_USER\")\n",
    "MINIO_PASSWORD = os.getenv(\"MINIO_PASSWORD\")\n",
    "MINIO_ENDPOINT = os.getenv(\"MINIO_ENDPOINT\")\n",
    "\n",
    "session = boto3.session.Session(\n",
    "    aws_access_key_id=MINIO_USER,\n",
    "    aws_secret_access_key=MINIO_PASSWORD,\n",
    "    region_name=\"us-east-1\"\n",
    ")\n",
    "s3 = session.client(\n",
    "    \"s3\",\n",
    "    endpoint_url=MINIO_ENDPOINT,\n",
    "    config=Config(signature_version=\"s3v4\", s3={\"addressing_style\": \"path\"})\n",
    ")\n",
    "\n",
    "# Paths and Buckets\n",
    "TRUST_BUCKET        = \"trusted-zone\"\n",
    "TRUST_IMAGES_PREFIX = \"images\"\n",
    "\n",
    "# ChromaDB Persistent Client\n",
    "PERSIST_DIR = os.getenv(\"CHROMA_PERSIST_DIR\")\n",
    "\n",
    "def utc_ts():\n",
    "    return datetime.now(timezone.utc).strftime(\"%Y-%m-%dT%H-%M-%SZ\")"
   ]
  },
  {
   "cell_type": "markdown",
   "id": "0c35a110",
   "metadata": {},
   "source": [
    "## 2. S3 Helper Functions\n",
    "\n",
    "These utility functions provide a clean interface for S3 operations, handling common patterns like listing objects, checking existence, and copying files between buckets.\n"
   ]
  },
  {
   "cell_type": "code",
   "execution_count": 39,
   "id": "7cabb61c",
   "metadata": {},
   "outputs": [],
   "source": [
    "def list_all_jpg_keys(bucket: str, prefix: str):\n",
    "    keys, token = [], None\n",
    "    while True:\n",
    "        kwargs = {\"Bucket\": bucket, \"Prefix\": prefix, \"MaxKeys\": 1000}\n",
    "        if token: kwargs[\"ContinuationToken\"] = token\n",
    "        resp = s3.list_objects_v2(**kwargs)\n",
    "        for obj in resp.get(\"Contents\", []):\n",
    "            k = obj[\"Key\"]\n",
    "            if k.lower().endswith(\".jpg\") or k.lower().endswith(\".jpeg\"):\n",
    "                # store keys relative to the prefix (cleaner IDs)\n",
    "                keys.append(k)\n",
    "                print(f\"Found image: {keys[-1]}\")\n",
    "        token = resp.get(\"NextContinuationToken\")\n",
    "        if not token:\n",
    "            break\n",
    "    return keys\n",
    "\n",
    "def get_np_from_minio(key: str) -> np.ndarray:\n",
    "    obj = s3.get_object(Bucket=TRUST_BUCKET, Key=key)\n",
    "    return np.array(Image.open(io.BytesIO(obj[\"Body\"].read())).convert(\"RGB\"))\n"
   ]
  },
  {
   "cell_type": "markdown",
   "id": "3a9b5ecd",
   "metadata": {},
   "source": [
    "## 3. Create and/or connect to the chromaDB\n"
   ]
  },
  {
   "cell_type": "code",
   "execution_count": null,
   "id": "450cc940",
   "metadata": {},
   "outputs": [
    {
     "name": "stdout",
     "output_type": "stream",
     "text": [
      "✅ Chroma DB directory: ./chroma_exploitation\n"
     ]
    }
   ],
   "source": [
    "chroma_client = PersistentClient(path=PERSIST_DIR)\n",
    "ef_img = OpenCLIPEmbeddingFunction()\n",
    "\n",
    "images_name = \"trusted_zone_images\"\n",
    "multi_name = \"trusted_zone_multimodal\"\n",
    "\n",
    "images_col = chroma_client.get_or_create_collection(\n",
    "    name=images_name,\n",
    "    embedding_function=ef_img,\n",
    "    metadata={\"modality\": \"image\", \"model\": \"OpenCLIP\", \"source\": \"minio\"}\n",
    ")\n",
    "multi_col = chroma_client.get_or_create_collection(\n",
    "    name=multi_name,\n",
    "    embedding_function=ef_img,\n",
    "    metadata={\"modality\": \"multimodal\", \"model\": \"OpenCLIP\", \"source\": \"minio\"}\n",
    ")\n",
    "print(\"✅ Chroma DB directory:\", PERSIST_DIR)\n"
   ]
  },
  {
   "cell_type": "markdown",
   "id": "935022c6",
   "metadata": {},
   "source": [
    "## 4. Generate embeddings and store in chromaDB\n"
   ]
  },
  {
   "cell_type": "code",
   "execution_count": null,
   "id": "ba5d4497",
   "metadata": {},
   "outputs": [
    {
     "name": "stdout",
     "output_type": "stream",
     "text": [
      "Found image: images/image$adsdb-multimodal-food-data-management$2025-10-25T17-44-21Z$023bdcc87e1cb309921cc24051bd24e0__000b71bd25_0.jpg\n",
      "Found image: images/image$adsdb-multimodal-food-data-management$2025-10-25T17-44-21Z$1131df21b2f8a0beef920711e0b8bde5__000bd531d5_0.jpg\n",
      "Found image: images/image$adsdb-multimodal-food-data-management$2025-10-25T17-44-21Z$119b8b2249d9012935ba228549bba6c5__000bba053c_0.jpg\n",
      "Found image: images/image$adsdb-multimodal-food-data-management$2025-10-25T17-44-21Z$142496c88baebda2c924c53461d0f78e__00073a6b36_0.jpg\n",
      "Found image: images/image$adsdb-multimodal-food-data-management$2025-10-25T17-44-21Z$178c1af104b971fe99d70bfdaf0b9f10__00059b093b_0.jpg\n",
      "Found image: images/image$adsdb-multimodal-food-data-management$2025-10-25T17-44-21Z$19214085d36fb535c7dbf24d178dea1b__000095fc1d_0.jpg\n",
      "Found image: images/image$adsdb-multimodal-food-data-management$2025-10-25T17-44-21Z$1a426726a1e467b8e6360e980b03f611__00003a70b1_1.jpg\n",
      "Found image: images/image$adsdb-multimodal-food-data-management$2025-10-25T17-44-21Z$1b1a47ccbb9d3b879c21952c03111b34__00003a70b1_2.jpg\n",
      "Found image: images/image$adsdb-multimodal-food-data-management$2025-10-25T17-44-21Z$1c16b2f48838a8c0a3a50d0fb7b4d3d8__000b09bc1c_0.jpg\n",
      "Found image: images/image$adsdb-multimodal-food-data-management$2025-10-25T17-44-21Z$1d77e796af5a42913a70cdf06e3d15b6__000eb2a4d9_0.jpg\n",
      "Found image: images/image$adsdb-multimodal-food-data-management$2025-10-25T17-44-21Z$1f319b35211a3460a2ea0c4e6a9a8092__00089de6f7_0.jpg\n",
      "Found image: images/image$adsdb-multimodal-food-data-management$2025-10-25T17-44-21Z$24250ee2c3fc6f8a1639adafc0105e29__000b71bd25_4.jpg\n",
      "Found image: images/image$adsdb-multimodal-food-data-management$2025-10-25T17-44-21Z$26f424f36357fc1fbf130a1d6b56e90b__000b71bd25_1.jpg\n",
      "Found image: images/image$adsdb-multimodal-food-data-management$2025-10-25T17-44-21Z$27411161d5ab042cbe985fea570e18c9__0008e9296d_0.jpg\n",
      "Found image: images/image$adsdb-multimodal-food-data-management$2025-10-25T17-44-21Z$29a6b894f0b8a4baa0fa34c9ae16449f__0008b8f5bc_0.jpg\n",
      "Found image: images/image$adsdb-multimodal-food-data-management$2025-10-25T17-44-21Z$2ae214acf9fa1e79658ea486f850525c__00034ad6cc_2.jpg\n",
      "Found image: images/image$adsdb-multimodal-food-data-management$2025-10-25T17-44-21Z$2beb30949c65b2f7b28a032ffda5959b__000590db74_0.jpg\n",
      "Found image: images/image$adsdb-multimodal-food-data-management$2025-10-25T17-44-21Z$39ae3497dba7d5906d1134259dfcf84f__00034cf3f3_0.jpg\n",
      "Found image: images/image$adsdb-multimodal-food-data-management$2025-10-25T17-44-21Z$44af7d617efb40fb4459a98c3f66b5f7__0008b8f5bc_1.jpg\n",
      "Found image: images/image$adsdb-multimodal-food-data-management$2025-10-25T17-44-21Z$46ffc3890fb1c38ca6bf1520471269cf__0003d5b120_0.jpg\n",
      "Found image: images/image$adsdb-multimodal-food-data-management$2025-10-25T17-44-21Z$4786052a58187b0a9c875fde7cf940c9__00010c7867_0.jpg\n",
      "Found image: images/image$adsdb-multimodal-food-data-management$2025-10-25T17-44-21Z$534cc1d2c9a0c61cd6eac9003a7f5a5b__000eb2a4d9_1.jpg\n",
      "Found image: images/image$adsdb-multimodal-food-data-management$2025-10-25T17-44-21Z$57a871858fda5288104a328ebea956b1__0008fab425_2.jpg\n",
      "Found image: images/image$adsdb-multimodal-food-data-management$2025-10-25T17-44-21Z$58646544ed25094a257f61d3ee77083f__000c3fbb33_0.jpg\n",
      "Found image: images/image$adsdb-multimodal-food-data-management$2025-10-25T17-44-21Z$5fa6352d9a2d3953ec1b1bdde5658bf1__00047059be_1.jpg\n",
      "Found image: images/image$adsdb-multimodal-food-data-management$2025-10-25T17-44-21Z$6052963ccafa1e6f2b44540d7411d764__000dfc842f_1.jpg\n",
      "Found image: images/image$adsdb-multimodal-food-data-management$2025-10-25T17-44-21Z$623fe74ce8b5d09bf816cc98fa3451e6__000cc7abe7_0.jpg\n",
      "Found image: images/image$adsdb-multimodal-food-data-management$2025-10-25T17-44-21Z$624faf7fa7dd887ba158a9359e28570a__000ee3c428_0.jpg\n",
      "Found image: images/image$adsdb-multimodal-food-data-management$2025-10-25T17-44-21Z$6640db44a5c6ead314e3c4652aed9531__000ee3c428_2.jpg\n",
      "Found image: images/image$adsdb-multimodal-food-data-management$2025-10-25T17-44-21Z$68d70ac73e8fddc2f7c7a70c662df7e1__000dfc842f_0.jpg\n",
      "Found image: images/image$adsdb-multimodal-food-data-management$2025-10-25T17-44-21Z$696e8155589b80eb0ec8cf18b083b669__0007a28fe7_0.jpg\n",
      "Found image: images/image$adsdb-multimodal-food-data-management$2025-10-25T17-44-21Z$6aaf18e8462526c1298ea0ccfaa861a5__0000b1e2b5_0.jpg\n",
      "Found image: images/image$adsdb-multimodal-food-data-management$2025-10-25T17-44-21Z$6d0cdfb181c234894dc0b8ee94d46ecc__001148ab26_1.jpg\n",
      "Found image: images/image$adsdb-multimodal-food-data-management$2025-10-25T17-44-21Z$6d9911addf791600d8b30ecb4523c410__000a3d10fb_2.jpg\n",
      "Found image: images/image$adsdb-multimodal-food-data-management$2025-10-25T17-44-21Z$6e0720efb93c1e5c1719b5b4c0c4cd7e__0000c79afb_0.jpg\n",
      "Found image: images/image$adsdb-multimodal-food-data-management$2025-10-25T17-44-21Z$72b3e6e5ece452f537675217b7cc8fe1__00089c3010_0.jpg\n",
      "Found image: images/image$adsdb-multimodal-food-data-management$2025-10-25T17-44-21Z$7309215c1ecdbdfdca241376e56bd6bd__0006c5e4eb_0.jpg\n",
      "Found image: images/image$adsdb-multimodal-food-data-management$2025-10-25T17-44-21Z$75e36d82ef9ecbf32b2a1e3b1c6b7397__000ee3c428_8.jpg\n",
      "Found image: images/image$adsdb-multimodal-food-data-management$2025-10-25T17-44-21Z$76b064e7793ff50589b5a30296084630__0006354bc3_1.jpg\n",
      "Found image: images/image$adsdb-multimodal-food-data-management$2025-10-25T17-44-21Z$7704a969b6fd51553d1363eeda531cb6__000b71bd25_3.jpg\n",
      "Found image: images/image$adsdb-multimodal-food-data-management$2025-10-25T17-44-21Z$7738b68adabb7169966074d4c6cf1317__000ee3c428_3.jpg\n",
      "Found image: images/image$adsdb-multimodal-food-data-management$2025-10-25T17-44-21Z$7f01f4e6109d990f3a2b1725592aca71__000238353f_0.jpg\n",
      "Found image: images/image$adsdb-multimodal-food-data-management$2025-10-25T17-44-21Z$819b257e2425749a9598eafb0235b5dc__00111b70f6_0.jpg\n",
      "Found image: images/image$adsdb-multimodal-food-data-management$2025-10-25T17-44-21Z$83189752b485fd356984f8964f675bdf__0004073370_0.jpg\n",
      "Found image: images/image$adsdb-multimodal-food-data-management$2025-10-25T17-44-21Z$83f3a3d75fcb0f47e45a2e6782c333bb__00100336d5_0.jpg\n",
      "Found image: images/image$adsdb-multimodal-food-data-management$2025-10-25T17-44-21Z$85ae0f868eeaff2e38971c848cbe8d71__00034ad6cc_1.jpg\n",
      "Found image: images/image$adsdb-multimodal-food-data-management$2025-10-25T17-44-21Z$8881ebaad092c858056d52604ad8f087__000cc17819_0.jpg\n",
      "Found image: images/image$adsdb-multimodal-food-data-management$2025-10-25T17-44-21Z$8dbc71ebdfa2836bd1f9a0f8e4bfdc02__000d73dc07_0.jpg\n",
      "Found image: images/image$adsdb-multimodal-food-data-management$2025-10-25T17-44-21Z$8e0d7863f25243a791e17138ad248fc6__000dfc842f_3.jpg\n",
      "Found image: images/image$adsdb-multimodal-food-data-management$2025-10-25T17-44-21Z$8f1d8e67153f9cf2472502426b8ecf05__00034cf3f3_1.jpg\n",
      "Found image: images/image$adsdb-multimodal-food-data-management$2025-10-25T17-44-21Z$90edba3308a2ad4ed2d6cdc58e7e4a27__00016355e6_0.jpg\n",
      "Found image: images/image$adsdb-multimodal-food-data-management$2025-10-25T17-44-21Z$91a167b00e749337df943902c35bba1c__000984c4d3_0.jpg\n",
      "Found image: images/image$adsdb-multimodal-food-data-management$2025-10-25T17-44-21Z$93f4f81c3dcc8cf10d140eccdd36f3c3__00054e238b_0.jpg\n",
      "Found image: images/image$adsdb-multimodal-food-data-management$2025-10-25T17-44-21Z$971ea95e727b6768d888278062f22a73__000ee3c428_7.jpg\n",
      "Found image: images/image$adsdb-multimodal-food-data-management$2025-10-25T17-44-21Z$97276ba02a887b528c09bd59dad3ce13__00082e1318_0.jpg\n",
      "Found image: images/image$adsdb-multimodal-food-data-management$2025-10-25T17-44-21Z$a4ceb432f1c35f0de4da866ab18b4656__00063fb14c_0.jpg\n",
      "Found image: images/image$adsdb-multimodal-food-data-management$2025-10-25T17-44-21Z$a558f045aadaf96e44b67c18e77b0a87__00010c7867_1.jpg\n",
      "Found image: images/image$adsdb-multimodal-food-data-management$2025-10-25T17-44-21Z$a74a8d2bc7819e56a7ccd5f59a4b199c__000ee3c428_1.jpg\n",
      "Found image: images/image$adsdb-multimodal-food-data-management$2025-10-25T17-44-21Z$aa96ee07545dc7c815d404942f3f28c7__00047059be_0.jpg\n",
      "Found image: images/image$adsdb-multimodal-food-data-management$2025-10-25T17-44-21Z$abd68e9ab82ee44fc8f620e8bd1adccf__000ee3c428_4.jpg\n",
      "Found image: images/image$adsdb-multimodal-food-data-management$2025-10-25T17-44-21Z$b07c43b0325f168d7ce2b580d8e4b2a4__00003a70b1_0.jpg\n",
      "Found image: images/image$adsdb-multimodal-food-data-management$2025-10-25T17-44-21Z$b0fe8d68a5e1583737cced900cb58ff3__0008b8f5bc_2.jpg\n",
      "Found image: images/image$adsdb-multimodal-food-data-management$2025-10-25T17-44-21Z$b1d206a40b5dea717e3a81e85b8a9fc1__000d679873_0.jpg\n",
      "Found image: images/image$adsdb-multimodal-food-data-management$2025-10-25T17-44-21Z$b6c8c43e11b4cacf8189d5c2925b433c__000ee3c428_6.jpg\n",
      "Found image: images/image$adsdb-multimodal-food-data-management$2025-10-25T17-44-21Z$bbde1e628998635ea8afb61510eeeddb__0008fab425_1.jpg\n",
      "Found image: images/image$adsdb-multimodal-food-data-management$2025-10-25T17-44-21Z$bbfd659d2c840decae3b55ac6beb9ebb__001128ebd8_0.jpg\n",
      "Found image: images/image$adsdb-multimodal-food-data-management$2025-10-25T17-44-21Z$bdce510ea0e1856b7ab1d508f9a126bd__00098bc4cc_0.jpg\n",
      "Found image: images/image$adsdb-multimodal-food-data-management$2025-10-25T17-44-21Z$c261053cb7c31aa125c6460318c0f56f__001148ab26_0.jpg\n",
      "Found image: images/image$adsdb-multimodal-food-data-management$2025-10-25T17-44-21Z$c286b2d709037f6206e7d3a8d89d4558__000dc3e7e7_0.jpg\n",
      "Found image: images/image$adsdb-multimodal-food-data-management$2025-10-25T17-44-21Z$c6d72c5fa94f1d9fbb6b48e008c9f614__000d73dc07_1.jpg\n",
      "Found image: images/image$adsdb-multimodal-food-data-management$2025-10-25T17-44-21Z$c9bad1e94d418a7a32dcfcb28f110ddc__000eb6f05a_0.jpg\n",
      "Found image: images/image$adsdb-multimodal-food-data-management$2025-10-25T17-44-21Z$cf04ee4347486fe4e1e270b0d42e6278__0007a00526_0.jpg\n",
      "Found image: images/image$adsdb-multimodal-food-data-management$2025-10-25T17-44-21Z$cfd505481137b1714fdb8ac79fdc8320__00050108a0_0.jpg\n",
      "Found image: images/image$adsdb-multimodal-food-data-management$2025-10-25T17-44-21Z$d29f5b49a0bbe5d83a1e2cdfc56f121f__000c4d4523_0.jpg\n",
      "Found image: images/image$adsdb-multimodal-food-data-management$2025-10-25T17-44-21Z$d342949e3bdd5fb828b161f4f9915f0b__000ee3c428_5.jpg\n",
      "Found image: images/image$adsdb-multimodal-food-data-management$2025-10-25T17-44-21Z$d3539cf556b138c08a3f561fd9f28c97__000dfc842f_5.jpg\n",
      "Found image: images/image$adsdb-multimodal-food-data-management$2025-10-25T17-44-21Z$dad82c28af73b9f85ab27ef7fd49e127__000d39d105_0.jpg\n",
      "Found image: images/image$adsdb-multimodal-food-data-management$2025-10-25T17-44-21Z$db57adec291f4c2dd5d5a009d9390b09__000eb2a4d9_2.jpg\n",
      "Found image: images/image$adsdb-multimodal-food-data-management$2025-10-25T17-44-21Z$dc5038364b2665f78442881d8c4dd660__0006354bc3_0.jpg\n",
      "Found image: images/image$adsdb-multimodal-food-data-management$2025-10-25T17-44-21Z$ddda811d95b5cda929185b50b56b757a__0008de82a3_0.jpg\n",
      "Found image: images/image$adsdb-multimodal-food-data-management$2025-10-25T17-44-21Z$de57131e176e114167df92db6b595632__00111b70f6_1.jpg\n",
      "Found image: images/image$adsdb-multimodal-food-data-management$2025-10-25T17-44-21Z$e41ef454ab6fa276a9d071fffcbc2101__000d73dc07_2.jpg\n",
      "Found image: images/image$adsdb-multimodal-food-data-management$2025-10-25T17-44-21Z$e9da53b4f23ab299b2299f8cb8d83bee__00047059be_2.jpg\n",
      "Found image: images/image$adsdb-multimodal-food-data-management$2025-10-25T17-44-21Z$ec753e257500b2d2c6455e8080e5f279__000c9dace9_0.jpg\n",
      "Found image: images/image$adsdb-multimodal-food-data-management$2025-10-25T17-44-21Z$f048b362a2cd8db702bf00f52307e6d5__00007bfd16_1.jpg\n",
      "Found image: images/image$adsdb-multimodal-food-data-management$2025-10-25T17-44-21Z$f402ec01fc2d65a5bfb03727c59657ba__0004c091a0_0.jpg\n",
      "Found image: images/image$adsdb-multimodal-food-data-management$2025-10-25T17-44-21Z$f6b83c33c286784a0cebdbbe4849e14c__0010923f5c_0.jpg\n",
      "Found image: images/image$adsdb-multimodal-food-data-management$2025-10-25T17-44-21Z$f70dd6b413316dfccbba21faeaf2aded__000bba053c_1.jpg\n",
      "Found image: images/image$adsdb-multimodal-food-data-management$2025-10-25T17-44-21Z$f81a9c593da49674756ac22f1f61e0a2__000bcc1e31_0.jpg\n",
      "Found image: images/image$adsdb-multimodal-food-data-management$2025-10-25T17-44-21Z$fb5e74d207155ada179586fadfd41b4c__00034ad6cc_0.jpg\n",
      "Found image: images/image$adsdb-multimodal-food-data-management$2025-10-25T17-44-21Z$fdc2fdec3209bfc126175cfb4cc8fe56__0008fab425_3.jpg\n",
      "✅ Embedded + stored all images in local Chroma\n"
     ]
    }
   ],
   "source": [
    "image_keys = list_all_jpg_keys(TRUST_BUCKET, TRUST_IMAGES_PREFIX)\n",
    "\n",
    "BATCH = 128\n",
    "buf_ids, buf_imgs, buf_meta = [], [], []\n",
    "\n",
    "for i, key in enumerate(image_keys, 1):\n",
    "    try:\n",
    "        arr = get_np_from_minio(key)\n",
    "    except Exception:\n",
    "        arr = np.full((224,224,3), 255, dtype=np.uint8)  # fallback\n",
    "\n",
    "    buf_ids.append(key.replace(\"/\", \"__\"))\n",
    "    buf_imgs.append(arr)\n",
    "    buf_meta.append({\"type\": \"image\", \"object_key\": key, \"bucket\": TRUST_BUCKET})\n",
    "\n",
    "    if len(buf_ids) == BATCH or i == len(image_keys):\n",
    "        images_col.add(ids=buf_ids, images=buf_imgs, metadatas=buf_meta)\n",
    "        multi_col.add(ids=buf_ids, images=buf_imgs, metadatas=buf_meta)\n",
    "        buf_ids, buf_imgs, buf_meta = [], [], []\n",
    "\n",
    "print(\"✅ Embedded + stored all images in local Chroma\")\n"
   ]
  },
  {
   "cell_type": "markdown",
   "id": "6a44de3e",
   "metadata": {},
   "source": [
    "## 5. Test retreaval\n"
   ]
  },
  {
   "cell_type": "code",
   "execution_count": 42,
   "id": "212ea664",
   "metadata": {},
   "outputs": [
    {
     "data": {
      "text/plain": [
       "{'ids': [['images__image$adsdb-multimodal-food-data-management$2025-10-25T17-44-21Z$c286b2d709037f6206e7d3a8d89d4558__000dc3e7e7_0.jpg',\n",
       "   'images__image$adsdb-multimodal-food-data-management$2025-10-25T17-44-21Z$ec753e257500b2d2c6455e8080e5f279__000c9dace9_0.jpg',\n",
       "   'images__image$adsdb-multimodal-food-data-management$2025-10-25T17-44-21Z$f81a9c593da49674756ac22f1f61e0a2__000bcc1e31_0.jpg',\n",
       "   'images__image$adsdb-multimodal-food-data-management$2025-10-25T17-44-21Z$26f424f36357fc1fbf130a1d6b56e90b__000b71bd25_1.jpg',\n",
       "   'images__image$adsdb-multimodal-food-data-management$2025-10-25T17-44-21Z$46ffc3890fb1c38ca6bf1520471269cf__0003d5b120_0.jpg']],\n",
       " 'embeddings': None,\n",
       " 'documents': None,\n",
       " 'uris': None,\n",
       " 'included': ['metadatas', 'distances'],\n",
       " 'data': None,\n",
       " 'metadatas': [[{'bucket': 'trusted-zone',\n",
       "    'object_key': 'images/image$adsdb-multimodal-food-data-management$2025-10-25T17-44-21Z$c286b2d709037f6206e7d3a8d89d4558__000dc3e7e7_0.jpg'},\n",
       "   {'object_key': 'images/image$adsdb-multimodal-food-data-management$2025-10-25T17-44-21Z$ec753e257500b2d2c6455e8080e5f279__000c9dace9_0.jpg',\n",
       "    'bucket': 'trusted-zone'},\n",
       "   {'bucket': 'trusted-zone',\n",
       "    'object_key': 'images/image$adsdb-multimodal-food-data-management$2025-10-25T17-44-21Z$f81a9c593da49674756ac22f1f61e0a2__000bcc1e31_0.jpg'},\n",
       "   {'object_key': 'images/image$adsdb-multimodal-food-data-management$2025-10-25T17-44-21Z$26f424f36357fc1fbf130a1d6b56e90b__000b71bd25_1.jpg',\n",
       "    'bucket': 'trusted-zone'},\n",
       "   {'bucket': 'trusted-zone',\n",
       "    'object_key': 'images/image$adsdb-multimodal-food-data-management$2025-10-25T17-44-21Z$46ffc3890fb1c38ca6bf1520471269cf__0003d5b120_0.jpg'}]],\n",
       " 'distances': [[0.7164240479469299,\n",
       "   0.7570664882659912,\n",
       "   0.7610695362091064,\n",
       "   0.7616706490516663,\n",
       "   0.7677895426750183]]}"
      ]
     },
     "execution_count": 42,
     "metadata": {},
     "output_type": "execute_result"
    }
   ],
   "source": [
    "# Text → Image (cross-modal CLIP search)\n",
    "res = images_col.query(\n",
    "    query_texts=[\"pasta with tomato and basil\"],\n",
    "    n_results=5,\n",
    "    include=[\"metadatas\",\"distances\"]\n",
    ")\n",
    "res\n"
   ]
  }
 ],
 "metadata": {
  "kernelspec": {
   "display_name": ".venv",
   "language": "python",
   "name": "python3"
  },
  "language_info": {
   "codemirror_mode": {
    "name": "ipython",
    "version": 3
   },
   "file_extension": ".py",
   "mimetype": "text/x-python",
   "name": "python",
   "nbconvert_exporter": "python",
   "pygments_lexer": "ipython3",
   "version": "3.12.0"
  }
 },
 "nbformat": 4,
 "nbformat_minor": 5
}
