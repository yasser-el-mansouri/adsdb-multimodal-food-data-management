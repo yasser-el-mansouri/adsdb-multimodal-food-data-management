{
 "cells": [
  {
   "cell_type": "code",
   "execution_count": 1,
   "id": "d4c522da",
   "metadata": {},
   "outputs": [
    {
     "name": "stderr",
     "output_type": "stream",
     "text": [
      "c:\\Users\\yasse\\Documents\\UNI\\Master\\DS\\ADSDB\\project\\adsdb-multimodal-food-data-management\\.venv\\Lib\\site-packages\\tqdm\\auto.py:21: TqdmWarning: IProgress not found. Please update jupyter and ipywidgets. See https://ipywidgets.readthedocs.io/en/stable/user_install.html\n",
      "  from .autonotebook import tqdm as notebook_tqdm\n"
     ]
    }
   ],
   "source": [
    "import os\n",
    "from dotenv import load_dotenv\n",
    "from datasets import  load_dataset\n",
    "from huggingface_hub import HfApi, hf_hub_url\n",
    "import s3fs\n",
    "from os.path import basename\n",
    "import requests\n",
    "import base64"
   ]
  },
  {
   "cell_type": "code",
   "execution_count": 2,
   "id": "d5f673ca",
   "metadata": {},
   "outputs": [],
   "source": [
    "load_dotenv()\n",
    "HF_TOKEN=os.getenv(\"HF_TOKEN\")\n",
    "HF_ORGA=os.getenv(\"HF_ORGA\")\n",
    "HF_DATASET=os.getenv(\"HF_DATASET\")\n",
    "HF_REV=os.getenv(\"HF_REV\")\n",
    "MINIO_PASSWORD=os.getenv(\"MINIO_PASSWORD\")\n",
    "MINIO_USER=os.getenv(\"MINIO_USER\")\n",
    "MINIO_ENDPOINT=os.getenv(\"MINIO_ENDPOINT\")\n",
    "MINIO_BUCKET=os.getenv(\"MINIO_BUCKET\")"
   ]
  },
  {
   "cell_type": "code",
   "execution_count": 3,
   "id": "2f0481fd",
   "metadata": {},
   "outputs": [],
   "source": [
    "api = HfApi()\n",
    "info = api.whoami(token=HF_TOKEN)"
   ]
  },
  {
   "cell_type": "code",
   "execution_count": 4,
   "id": "a60e21ee",
   "metadata": {},
   "outputs": [],
   "source": [
    "fs = s3fs.S3FileSystem(\n",
    "    key=MINIO_USER,\n",
    "    secret=MINIO_PASSWORD,\n",
    "    client_kwargs={\"endpoint_url\": MINIO_ENDPOINT}\n",
    ")"
   ]
  },
  {
   "cell_type": "code",
   "execution_count": 5,
   "id": "e32e1200",
   "metadata": {},
   "outputs": [],
   "source": [
    "datasets = api.list_datasets(author=HF_ORGA, token=HF_TOKEN) "
   ]
  },
  {
   "cell_type": "code",
   "execution_count": 6,
   "id": "e49f905c",
   "metadata": {},
   "outputs": [],
   "source": [
    "SKIP = {\".gitattributes\", \".gitignore\", \".gitkeep\"}\n",
    "\n",
    "for ds in datasets:\n",
    "    ds_id=ds.id\n",
    "    files=api.list_repo_files(repo_id=ds_id, repo_type=\"dataset\", revision=HF_REV)\n",
    "    for path in files:\n",
    "        fname = basename(path)\n",
    "        if fname.startswith(\".\") or fname in SKIP:\n",
    "            continue\n",
    "        url=hf_hub_url(repo_id=ds_id, filename=path, repo_type=\"dataset\", revision=HF_REV)\n",
    "        r=requests.get(url, stream=True, headers={\"authorization\":f\"Bearer {HF_TOKEN}\"})\n",
    "        r.raise_for_status()\n",
    "        with fs.open(f\"{MINIO_BUCKET}/temporal_landing/{path.replace('/', '__')}\",\"wb\") as f: # TODO many files in folders can result in the same, see and ask the best way to do it\n",
    "            for chunk in r.iter_content(1024*1024):\n",
    "                if chunk: f.write(chunk)"
   ]
  },
  {
   "cell_type": "code",
   "execution_count": 7,
   "id": "18cf5f35",
   "metadata": {},
   "outputs": [],
   "source": [
    "# TODO delete .keep files?\n",
    "# TODO see if we need to add metadata on all zones\n",
    "# TODO extract from temporal landing zone to persistent landing zone (Name convention & organization)\n",
    "# TODO we need to decide if we store it by source or by domain, etc\n",
    "# TODO Name convention: <source>$<dataset>$<timestamp>.<format> where <timestamp> -> dd-mm-yyyy\n",
    "# TODO should be done in a separate notebook"
   ]
  }
 ],
 "metadata": {
  "kernelspec": {
   "display_name": ".venv",
   "language": "python",
   "name": "python3"
  },
  "language_info": {
   "codemirror_mode": {
    "name": "ipython",
    "version": 3
   },
   "file_extension": ".py",
   "mimetype": "text/x-python",
   "name": "python",
   "nbconvert_exporter": "python",
   "pygments_lexer": "ipython3",
   "version": "3.12.1"
  }
 },
 "nbformat": 4,
 "nbformat_minor": 5
}
